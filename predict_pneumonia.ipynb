{
  "nbformat": 4,
  "nbformat_minor": 0,
  "metadata": {
    "colab": {
      "provenance": []
    },
    "kernelspec": {
      "name": "python3",
      "display_name": "Python 3"
    },
    "language_info": {
      "name": "python"
    }
  },
  "cells": [
    {
      "cell_type": "code",
      "execution_count": null,
      "metadata": {
        "id": "bzRLwhCKhlGv"
      },
      "outputs": [],
      "source": [
        "import numpy as np\n",
        "import h5py\n",
        "import tensorflow as tf\n",
        "import os\n",
        "import cv2 as cv"
      ]
    },
    {
      "cell_type": "code",
      "source": [
        "dict_label = {0.0:\"NORMAL\",\n",
        "             1.0:\"PNEUMONIA\"}"
      ],
      "metadata": {
        "id": "8O-CJZ1IhsDb"
      },
      "execution_count": null,
      "outputs": []
    },
    {
      "cell_type": "code",
      "source": [
        "check_pneumonia_path = \"/content/drive/MyDrive/Pneumonia/check_pneumonia\"\n",
        "list_pics_folder_lst = []\n",
        "for pics in os.listdir(check_pneumonia_path):\n",
        "    img = cv.imread(os.path.join(check_pneumonia_path,pics))\n",
        "    img = cv.resize(img,(27,27),cv.INTER_LINEAR)\n",
        "    img = img / 255\n",
        "    list_pics_folder_lst.append(img)\n",
        "list_pics_folder_np = np.array(list_pics_folder_lst)\n",
        "list_pics_folder_np.shape"
      ],
      "metadata": {
        "colab": {
          "base_uri": "https://localhost:8080/"
        },
        "id": "bPa6xgyRibu_",
        "outputId": "f6388326-5c01-45f0-bced-d990ee17f325"
      },
      "execution_count": null,
      "outputs": [
        {
          "output_type": "execute_result",
          "data": {
            "text/plain": [
              "(8, 27, 27, 3)"
            ]
          },
          "metadata": {},
          "execution_count": 4
        }
      ]
    },
    {
      "cell_type": "code",
      "source": [
        "model_pneumonia = tf.keras.models.load_model(\"/content/drive/MyDrive/Pneumonia/pneumonia.h5\")\n",
        "model_pneumonia.summary()"
      ],
      "metadata": {
        "colab": {
          "base_uri": "https://localhost:8080/"
        },
        "id": "WludQEuEigT9",
        "outputId": "24f130e9-3bca-411e-a17b-7a4d360eb78d"
      },
      "execution_count": null,
      "outputs": [
        {
          "output_type": "stream",
          "name": "stdout",
          "text": [
            "Model: \"sequential_9\"\n",
            "_________________________________________________________________\n",
            " Layer (type)                Output Shape              Param #   \n",
            "=================================================================\n",
            " conv2d_30 (Conv2D)          (None, 25, 25, 16)        448       \n",
            "                                                                 \n",
            " max_pooling2d_30 (MaxPoolin  (None, 12, 12, 16)       0         \n",
            " g2D)                                                            \n",
            "                                                                 \n",
            " conv2d_31 (Conv2D)          (None, 10, 10, 32)        4640      \n",
            "                                                                 \n",
            " max_pooling2d_31 (MaxPoolin  (None, 5, 5, 32)         0         \n",
            " g2D)                                                            \n",
            "                                                                 \n",
            " conv2d_32 (Conv2D)          (None, 3, 3, 64)          18496     \n",
            "                                                                 \n",
            " max_pooling2d_32 (MaxPoolin  (None, 1, 1, 64)         0         \n",
            " g2D)                                                            \n",
            "                                                                 \n",
            " flatten_9 (Flatten)         (None, 64)                0         \n",
            "                                                                 \n",
            " dense_36 (Dense)            (None, 128)               8320      \n",
            "                                                                 \n",
            " dropout_27 (Dropout)        (None, 128)               0         \n",
            "                                                                 \n",
            " dense_37 (Dense)            (None, 50)                6450      \n",
            "                                                                 \n",
            " dropout_28 (Dropout)        (None, 50)                0         \n",
            "                                                                 \n",
            " dense_38 (Dense)            (None, 20)                1020      \n",
            "                                                                 \n",
            " dropout_29 (Dropout)        (None, 20)                0         \n",
            "                                                                 \n",
            " dense_39 (Dense)            (None, 1)                 21        \n",
            "                                                                 \n",
            "=================================================================\n",
            "Total params: 39,395\n",
            "Trainable params: 39,395\n",
            "Non-trainable params: 0\n",
            "_________________________________________________________________\n"
          ]
        }
      ]
    },
    {
      "cell_type": "code",
      "source": [
        "pneumonia_img_predicted = model_pneumonia.predict(list_pics_folder_np)\n",
        "pneumonia_img_predicted = np.reshape(pneumonia_img_predicted,pneumonia_img_predicted.shape[0])\n",
        "pneumonia_img_predicted = np.round(pneumonia_img_predicted)\n",
        "pneumonia_img_predicted"
      ],
      "metadata": {
        "colab": {
          "base_uri": "https://localhost:8080/"
        },
        "id": "QaQGLqKpim5Q",
        "outputId": "c12b2ed4-1ec5-4526-9af8-9126bec778a1"
      },
      "execution_count": null,
      "outputs": [
        {
          "output_type": "stream",
          "name": "stdout",
          "text": [
            "1/1 [==============================] - 1s 521ms/step\n"
          ]
        },
        {
          "output_type": "execute_result",
          "data": {
            "text/plain": [
              "array([0., 1., 1., 1., 0., 0., 0., 0.], dtype=float32)"
            ]
          },
          "metadata": {},
          "execution_count": 6
        }
      ]
    },
    {
      "cell_type": "code",
      "source": [
        "count = 1\n",
        "for num in pneumonia_img_predicted:\n",
        "    disease = dict_label[num]\n",
        "    print(f\"img-->{count}  <==>  {disease}\")\n",
        "    count = count + 1"
      ],
      "metadata": {
        "colab": {
          "base_uri": "https://localhost:8080/"
        },
        "id": "14N9p91niprJ",
        "outputId": "4a7a78d8-bdb9-4b98-df4e-b0d8a6916d31"
      },
      "execution_count": null,
      "outputs": [
        {
          "output_type": "stream",
          "name": "stdout",
          "text": [
            "img-->1  <==>  NORMAL\n",
            "img-->2  <==>  PNEUMONIA\n",
            "img-->3  <==>  PNEUMONIA\n",
            "img-->4  <==>  PNEUMONIA\n",
            "img-->5  <==>  NORMAL\n",
            "img-->6  <==>  NORMAL\n",
            "img-->7  <==>  NORMAL\n",
            "img-->8  <==>  NORMAL\n"
          ]
        }
      ]
    },
    {
      "cell_type": "code",
      "source": [],
      "metadata": {
        "id": "Q2C-NUXuirmr"
      },
      "execution_count": null,
      "outputs": []
    }
  ]
}